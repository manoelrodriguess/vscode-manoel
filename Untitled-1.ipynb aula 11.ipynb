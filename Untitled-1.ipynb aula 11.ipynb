{
 "cells": [
  {
   "cell_type": "code",
   "execution_count": 2,
   "metadata": {},
   "outputs": [
    {
     "data": {
      "text/plain": [
       "range(1, 5)"
      ]
     },
     "execution_count": 2,
     "metadata": {},
     "output_type": "execute_result"
    }
   ],
   "source": [
    "range(1, 5)"
   ]
  },
  {
   "cell_type": "code",
   "execution_count": 3,
   "metadata": {},
   "outputs": [],
   "source": [
    "def funcaoLeitura():\n",
    "    for num in [1,2,3,4,5]:\n",
    "        print ('Número ', num)"
   ]
  },
  {
   "cell_type": "code",
   "execution_count": 4,
   "metadata": {},
   "outputs": [],
   "source": [
    "def funcaoLeitura():\n",
    "    for num in range(5):\n",
    "        print('Número ', num)"
   ]
  },
  {
   "cell_type": "code",
   "execution_count": 5,
   "metadata": {},
   "outputs": [
    {
     "name": "stdout",
     "output_type": "stream",
     "text": [
      "Número  0\n",
      "Número  1\n",
      "Número  2\n",
      "Número  3\n",
      "Número  4\n"
     ]
    }
   ],
   "source": [
    "funcaoLeitura()"
   ]
  },
  {
   "cell_type": "code",
   "execution_count": 6,
   "metadata": {},
   "outputs": [],
   "source": [
    "#Função para somar dois números\n",
    "def addNum(n1, n2):\n",
    "    print('O primeiro número é: ', n1)\n",
    "    print('O segundo número é: ', n2)\n",
    "    print('A soma número é: ', n1+n2)"
   ]
  },
  {
   "cell_type": "code",
   "execution_count": 7,
   "metadata": {},
   "outputs": [
    {
     "name": "stdout",
     "output_type": "stream",
     "text": [
      "O primeiro número é:  2\n",
      "O segundo número é:  3\n",
      "A soma número é:  5\n"
     ]
    }
   ],
   "source": [
    "addNum(2, 3)"
   ]
  },
  {
   "cell_type": "code",
   "execution_count": 8,
   "metadata": {},
   "outputs": [
    {
     "name": "stdout",
     "output_type": "stream",
     "text": [
      "O primeiro número é:  4\n",
      "O segundo número é:  3\n",
      "A soma número é:  7\n"
     ]
    }
   ],
   "source": [
    "addNum(4, 3)"
   ]
  },
  {
   "cell_type": "code",
   "execution_count": 9,
   "metadata": {},
   "outputs": [
    {
     "name": "stdout",
     "output_type": "stream",
     "text": [
      "Variável da função Multiplica:  20\n",
      "10\n"
     ]
    }
   ],
   "source": [
    "varGlobal = 10 #essa é uma variável global\n",
    "def multiplicacao(num1, num2):\n",
    "    #apesar do mesmo nome, é uma variável local:\n",
    "    varGlobal = (num1 * num2)\n",
    "    print(\"Variável da função Multiplica: \", varGlobal)\n",
    "\n",
    "multiplicacao(5, 4)\n",
    "print(varGlobal)    "
   ]
  },
  {
   "cell_type": "code",
   "execution_count": 20,
   "metadata": {},
   "outputs": [],
   "source": [
    "varGlobal = 10 #essa é uma variável global\n",
    "def multiplica(num1, num2):\n",
    "    varLocal = num1 * num2 #essa é uma variável local\n",
    "    print(\"Variável da função Multiplica: \", varLocal)\n",
    "    print(varLocal)\n",
    "\n",
    "    multiplica(5,4)"
   ]
  },
  {
   "cell_type": "code",
   "execution_count": null,
   "metadata": {},
   "outputs": [],
   "source": [
    "print(varLocal) #variável existe somente dentro da função"
   ]
  },
  {
   "cell_type": "code",
   "execution_count": 22,
   "metadata": {},
   "outputs": [],
   "source": [
    "def separarTexto(texto):\n",
    "    return texto.split()"
   ]
  },
  {
   "cell_type": "code",
   "execution_count": 23,
   "metadata": {},
   "outputs": [
    {
     "data": {
      "text/plain": [
       "['Cibele', 'Maria', 'Suely']"
      ]
     },
     "execution_count": 23,
     "metadata": {},
     "output_type": "execute_result"
    }
   ],
   "source": [
    "separarTexto(\"Cibele Maria Suely\")"
   ]
  },
  {
   "cell_type": "code",
   "execution_count": 24,
   "metadata": {},
   "outputs": [],
   "source": [
    "#Quando não sabemos a quantidade de parâmetros basta usar\n",
    "def variosParametros(*parametros):\n",
    "    for n, item in enumerate(parametros):\n",
    "        print(\"Parâmetro\", n, item)\n",
    "    return    "
   ]
  },
  {
   "cell_type": "code",
   "execution_count": 25,
   "metadata": {},
   "outputs": [
    {
     "name": "stdout",
     "output_type": "stream",
     "text": [
      "Parâmetro 0 Cibele\n",
      "Parâmetro 1 Suely\n",
      "Parâmetro 2 Giggio\n",
      "Parâmetro 3 Madá\n",
      "Parâmetro 4 Luquinhas\n"
     ]
    }
   ],
   "source": [
    "variosParametros('Cibele', 'Suely', 'Giggio', 'Madá', 'Luquinhas')"
   ]
  },
  {
   "cell_type": "code",
   "execution_count": 26,
   "metadata": {},
   "outputs": [
    {
     "name": "stdout",
     "output_type": "stream",
     "text": [
      "Parâmetro 0 Pitomba\n",
      "Parâmetro 1 jambo\n",
      "Parâmetro 2 siriguela\n",
      "Parâmetro 3 umbu\n"
     ]
    }
   ],
   "source": [
    "variosParametros(\"Pitomba\", \"jambo\", \"siriguela\", \"umbu\")"
   ]
  },
  {
   "cell_type": "code",
   "execution_count": 27,
   "metadata": {},
   "outputs": [],
   "source": [
    "def soma(n1, n2):\n",
    "    return n1+n2\n",
    "\n",
    "def subtrai(n1, n2):\n",
    "    return n1-n2\n",
    "\n",
    "def multiplica(n1, n2):\n",
    "    return n1*n2\n",
    "\n",
    "def divide(n1, n2):\n",
    "    return n1/n2 "
   ]
  },
  {
   "cell_type": "code",
   "execution_count": null,
   "metadata": {},
   "outputs": [],
   "source": [
    "while True:\n",
    "    print(\"+==================+\")\n",
    "    print(\"| MENU DE OPERAÇÕES\")\n",
    "    print(\"|  1 - somar       \")\n",
    "    print(\"|  2 - subtrair    \")\n",
    "    print(\"|  3 - multiplicar \")\n",
    "    print(\"|  4 - dividir     \")\n",
    "    print(\"|  0 - sair        \")\n",
    "    print(\"+==================+\")\n",
    "\n",
    "    op = int(input())\n",
    "    if op==0:\n",
    "        break\n",
    "    \n",
    "    n1 = int(input(\"Primeiro número é: \"))\n",
    "    n2 = int(input(\"Segundo número é: \"))\n",
    "\n",
    "    if op==1:\n",
    "        print(\"O resultado da soma é: \", soma(n1,n2))\n",
    "    elif op==2:\n",
    "        print(\"O resultado da subtração é: \", subtrai(n1,n2)) \n",
    "    elif op==3:\n",
    "        print(\"O resultado da multiplicação é: \", multiplica(n1,n2))\n",
    "    elif op==4:\n",
    "        print(\"O resultado da divisão é: \", divide(n1,n2))"
   ]
  }
 ],
 "metadata": {
  "kernelspec": {
   "display_name": "Python 3",
   "language": "python",
   "name": "python3"
  },
  "language_info": {
   "codemirror_mode": {
    "name": "ipython",
    "version": 3
   },
   "file_extension": ".py",
   "mimetype": "text/x-python",
   "name": "python",
   "nbconvert_exporter": "python",
   "pygments_lexer": "ipython3",
   "version": "3.10.11"
  }
 },
 "nbformat": 4,
 "nbformat_minor": 2
}
