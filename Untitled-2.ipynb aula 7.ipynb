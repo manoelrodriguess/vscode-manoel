{
 "cells": [
  {
   "cell_type": "code",
   "execution_count": 1,
   "metadata": {},
   "outputs": [
    {
     "data": {
      "text/plain": [
       "[7, 8, 9]"
      ]
     },
     "execution_count": 1,
     "metadata": {},
     "output_type": "execute_result"
    }
   ],
   "source": [
    "L = []\n",
    "L = list() #consultor  de listas\n",
    "\n",
    "dias = [3,1,10]\n",
    "dias[0]\n",
    "\n",
    "Z= [3,8,9]\n",
    "Z[0] = 7\n",
    "Z\n",
    "[7,8,9]\n"
   ]
  },
  {
   "cell_type": "code",
   "execution_count": 2,
   "metadata": {},
   "outputs": [
    {
     "data": {
      "text/plain": [
       "[7, 8, 9]"
      ]
     },
     "execution_count": 2,
     "metadata": {},
     "output_type": "execute_result"
    }
   ],
   "source": [
    "Z"
   ]
  },
  {
   "cell_type": "code",
   "execution_count": 3,
   "metadata": {},
   "outputs": [],
   "source": [
    "V = [6,7,5,8,9]\n",
    "Z = V"
   ]
  },
  {
   "cell_type": "code",
   "execution_count": 4,
   "metadata": {},
   "outputs": [
    {
     "data": {
      "text/plain": [
       "[6, 7, 5, 8, 9]"
      ]
     },
     "execution_count": 4,
     "metadata": {},
     "output_type": "execute_result"
    }
   ],
   "source": [
    "V"
   ]
  },
  {
   "cell_type": "code",
   "execution_count": 9,
   "metadata": {},
   "outputs": [
    {
     "name": "stdout",
     "output_type": "stream",
     "text": [
      "True\n",
      "False\n",
      "[81, 82, 83]\n",
      "[5, 82, 83]\n"
     ]
    }
   ],
   "source": [
    "a = [81,82,83]\n",
    "b = a[:] #cria um clone com fatia\n",
    "print (a == b)\n",
    "print ( a is b)\n",
    "b[0] = 5\n",
    "print (a)\n",
    "print (b)"
   ]
  },
  {
   "cell_type": "code",
   "execution_count": 14,
   "metadata": {},
   "outputs": [
    {
     "name": "stdout",
     "output_type": "stream",
     "text": [
      "['b', 'c']\n",
      "['a', 'b', 'c', 'd']\n",
      "['d', 'e', 'f']\n",
      "['a', 'b', 'c', 'd', 'e', 'f']\n"
     ]
    }
   ],
   "source": [
    "uma_lista = ['a','b','c','d','e','f']\n",
    "print (uma_lista [1:3])\n",
    "print (uma_lista[:4])\n",
    "print (uma_lista[3:])\n",
    "print (uma_lista[:])"
   ]
  },
  {
   "cell_type": "code",
   "execution_count": 20,
   "metadata": {},
   "outputs": [
    {
     "name": "stdout",
     "output_type": "stream",
     "text": [
      "3\n"
     ]
    }
   ],
   "source": [
    "a = [1,2,3]\n",
    "b = a[:]\n",
    "b[0] = 5\n",
    "print (a[2])"
   ]
  },
  {
   "cell_type": "code",
   "execution_count": 46,
   "metadata": {},
   "outputs": [],
   "source": [
    "#criar uma lista chamada minhaLista com os seguintes itens: 76, 92.3, \"oi\" , True, 4, 76. Depois execute os seguintes comandos:\n",
    "minhaLista = [76, 92.3, \"oi\" , True, 4, 76]\n",
    "minhaLista2 = ['pitomba' , 76]\n",
    "lista = minhaLista + minhaLista2"
   ]
  },
  {
   "cell_type": "code",
   "execution_count": 55,
   "metadata": {},
   "outputs": [
    {
     "name": "stdout",
     "output_type": "stream",
     "text": [
      "[76, 92.3, 'oi', 'Cibele', True, 4, 76, 'pitomba', 76]\n"
     ]
    }
   ],
   "source": [
    "minhaLista3 = [\"Cibele\"]\n",
    "print(minhaLista[0:3] + minhaLista3 + lista[3:]) "
   ]
  },
  {
   "cell_type": "code",
   "execution_count": 58,
   "metadata": {},
   "outputs": [
    {
     "name": "stdout",
     "output_type": "stream",
     "text": [
      "[99, 76, 92.3, 'oi', 'Cibele', True, 4, 76, 'pitomba', 76]\n"
     ]
    }
   ],
   "source": [
    "minhaLista4 = [99]\n",
    "print (minhaLista4 + minhaLista[0:3] + minhaLista3 + lista[3:])\n"
   ]
  },
  {
   "cell_type": "code",
   "execution_count": 61,
   "metadata": {},
   "outputs": [
    {
     "name": "stdout",
     "output_type": "stream",
     "text": [
      "indice 3\n"
     ]
    }
   ],
   "source": [
    "#encontrar o índice de 'oi'\n",
    "minhaLista = [76, 92.3, \"oi\" , True, 4, 76]\n",
    "if (minhaLista[0]== \"oi\"):\n",
    "    print ('indice 1')\n",
    "elif (minhaLista[1]== \"oi\"):\n",
    "    print ('indice 2')\n",
    "elif (minhaLista[2]== \"oi\"):\n",
    "    print ('indice 3')\n",
    "elif (minhaLista[3]== \"oi\"):\n",
    "    print ('indice 4')\n",
    "elif (minhaLista[4]== \"oi\"):\n",
    "    print ('indice 5')\n",
    "else:\n",
    "    print('indice6')                    "
   ]
  }
 ],
 "metadata": {
  "kernelspec": {
   "display_name": "Python 3",
   "language": "python",
   "name": "python3"
  },
  "language_info": {
   "codemirror_mode": {
    "name": "ipython",
    "version": 3
   },
   "file_extension": ".py",
   "mimetype": "text/x-python",
   "name": "python",
   "nbconvert_exporter": "python",
   "pygments_lexer": "ipython3",
   "version": "3.10.11"
  }
 },
 "nbformat": 4,
 "nbformat_minor": 2
}
