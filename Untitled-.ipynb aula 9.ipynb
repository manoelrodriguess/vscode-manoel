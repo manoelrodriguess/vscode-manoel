{
 "cells": [
  {
   "cell_type": "code",
   "execution_count": 6,
   "metadata": {},
   "outputs": [],
   "source": [
    "for produto in range(0, 4):\n",
    "    p = str(input(\"Digite o nome do produto: \"))\n",
    "    v = float(input(\"Digite o valor do produto: \"))"
   ]
  },
  {
   "cell_type": "code",
   "execution_count": 7,
   "metadata": {},
   "outputs": [
    {
     "name": "stdout",
     "output_type": "stream",
     "text": [
      "Estamos no elemento  1\n",
      "Estamos no elemento  2\n",
      "Estamos no elemento  3\n",
      "Estamos no elemento  4\n",
      "Estamos no elemento  5\n",
      "Estamos no elemento  6\n"
     ]
    }
   ],
   "source": [
    "for elemento in [1, 2, 3, 4, 5, 6]:\n",
    "    print ('Estamos no elemento ', elemento)"
   ]
  },
  {
   "cell_type": "code",
   "execution_count": 8,
   "metadata": {},
   "outputs": [
    {
     "name": "stdout",
     "output_type": "stream",
     "text": [
      "Estamos no elemento  S\n",
      "Estamos no elemento  T\n",
      "Estamos no elemento  R\n",
      "Estamos no elemento  I\n",
      "Estamos no elemento  N\n",
      "Estamos no elemento  G\n"
     ]
    }
   ],
   "source": [
    "for elemento in 'STRING':\n",
    "    print ('Estamos no elemento ', elemento)"
   ]
  },
  {
   "cell_type": "code",
   "execution_count": 9,
   "metadata": {},
   "outputs": [
    {
     "name": "stdout",
     "output_type": "stream",
     "text": [
      "Estamos no elemento  0\n",
      "Estamos no elemento  1\n",
      "Estamos no elemento  2\n",
      "Estamos no elemento  3\n",
      "Estamos no elemento  4\n",
      "Estamos no elemento  5\n"
     ]
    }
   ],
   "source": [
    "for elemento in range (len(\"STRING\")):\n",
    "    print ('Estamos no elemento ', elemento)"
   ]
  },
  {
   "cell_type": "code",
   "execution_count": 12,
   "metadata": {},
   "outputs": [],
   "source": [
    "produto = 0\n",
    "while produto < 4:\n",
    "    p = str(input(\"Digite o nome do produto: \"))\n",
    "    v = float(input(\"Digite o valor do produto: \"))\n",
    "    produto += 1"
   ]
  },
  {
   "cell_type": "code",
   "execution_count": 14,
   "metadata": {},
   "outputs": [
    {
     "name": "stdout",
     "output_type": "stream",
     "text": [
      "Estamos no elemento  0\n",
      "Estamos no elemento  1\n",
      "Estamos no elemento  2\n",
      "Estamos no elemento  3\n",
      "Estamos no elemento  4\n",
      "Estamos no elemento  5\n",
      "Estamos no elemento  6\n"
     ]
    }
   ],
   "source": [
    "elemento = 0\n",
    "while elemento <= len([1, 2, 3, 4, 5, 6]):\n",
    "    print ('Estamos no elemento ', elemento)\n",
    "    elemento +=1"
   ]
  },
  {
   "cell_type": "code",
   "execution_count": 16,
   "metadata": {},
   "outputs": [
    {
     "name": "stdout",
     "output_type": "stream",
     "text": [
      "Estamos no elemento  S\n",
      "Estamos no elemento  T\n",
      "Estamos no elemento  R\n",
      "Estamos no elemento  I\n",
      "Estamos no elemento  N\n",
      "Estamos no elemento  G\n"
     ]
    }
   ],
   "source": [
    "s= 'STRING'\n",
    "indice = 0\n",
    "\n",
    "while indice in range (len (s)):\n",
    "    print ('Estamos no elemento ', s[indice])\n",
    "    indice +=1"
   ]
  },
  {
   "cell_type": "code",
   "execution_count": 17,
   "metadata": {},
   "outputs": [
    {
     "name": "stdout",
     "output_type": "stream",
     "text": [
      "0 t\n",
      "1 r\n",
      "2 a\n",
      "3 n\n",
      "4 q\n",
      "5 u\n",
      "6 i\n",
      "7 l\n",
      "8 o\n"
     ]
    }
   ],
   "source": [
    "palavra = 'tranquilo'\n",
    "for indice, letra in enumerate(palavra):\n",
    "    print (indice, letra)"
   ]
  },
  {
   "cell_type": "code",
   "execution_count": 18,
   "metadata": {},
   "outputs": [
    {
     "name": "stdout",
     "output_type": "stream",
     "text": [
      "oi\n",
      "oi\n",
      "oi\n",
      "oi\n",
      "oi\n",
      "oi\n",
      "oi\n",
      "oi\n",
      "oi\n",
      "oi\n",
      "oi\n",
      "oi\n",
      "oi\n"
     ]
    }
   ],
   "source": [
    "s = \"viva o python\"\n",
    "for ch in s:\n",
    "    print ('oi')"
   ]
  },
  {
   "cell_type": "code",
   "execution_count": 19,
   "metadata": {},
   "outputs": [
    {
     "name": "stdout",
     "output_type": "stream",
     "text": [
      "Oi\n",
      "Oi\n",
      "Oi\n",
      "Oi\n",
      "Oi\n"
     ]
    }
   ],
   "source": [
    "s = \"viva o python\"\n",
    "for ch in s[3:8]:\n",
    "    print (\"Oi\")"
   ]
  },
  {
   "cell_type": "code",
   "execution_count": 41,
   "metadata": {},
   "outputs": [
    {
     "name": "stdout",
     "output_type": "stream",
     "text": [
      "Quantidade de numeros pares:  1\n",
      "Quantidade de numeros impares: 0\n",
      "Quantidade de numeros pares:  1\n",
      "Quantidade de numeros impares: 1\n",
      "Quantidade de numeros pares:  2\n",
      "Quantidade de numeros impares: 1\n",
      "Quantidade de numeros pares:  2\n",
      "Quantidade de numeros impares: 2\n",
      "Quantidade de numeros pares:  3\n",
      "Quantidade de numeros impares: 2\n",
      "Quantidade de numeros pares:  3\n",
      "Quantidade de numeros impares: 3\n",
      "Quantidade de numeros pares:  3\n",
      "Quantidade de numeros impares: 4\n",
      "Quantidade de numeros pares:  4\n",
      "Quantidade de numeros impares: 4\n",
      "Quantidade de numeros pares:  4\n",
      "Quantidade de numeros impares: 5\n",
      "Quantidade de numeros pares:  5\n",
      "Quantidade de numeros impares: 5\n"
     ]
    }
   ],
   "source": [
    "elemento = 1\n",
    "impar=0\n",
    "par=0\n",
    "\n",
    "for num in range (10):\n",
    "    numeros_inteiros = int(input(\"Digite 10 números inteiros: \"))\n",
    "    elemento += 1\n",
    "    if numeros_inteiros%2==0:\n",
    "            impar +=1\n",
    "    else:\n",
    "            par +=1 \n",
    "    print (\"Quantidade de numeros pares: \", impar)\n",
    "    print (\"Quantidade de numeros impares:\", par) \n"
   ]
  }
 ],
 "metadata": {
  "kernelspec": {
   "display_name": "Python 3",
   "language": "python",
   "name": "python3"
  },
  "language_info": {
   "codemirror_mode": {
    "name": "ipython",
    "version": 3
   },
   "file_extension": ".py",
   "mimetype": "text/x-python",
   "name": "python",
   "nbconvert_exporter": "python",
   "pygments_lexer": "ipython3",
   "version": "3.10.11"
  }
 },
 "nbformat": 4,
 "nbformat_minor": 2
}
