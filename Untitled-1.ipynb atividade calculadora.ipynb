{
 "cells": [
  {
   "cell_type": "code",
   "execution_count": null,
   "metadata": {},
   "outputs": [],
   "source": [
    "def soma(a, b):\n",
    "    return a + b\n",
    "\n",
    "def subtrai(a, b):\n",
    "    return a - b\n",
    "\n",
    "def multiplica(a, b):\n",
    "    return a * b\n",
    "\n",
    "def divide(a, b):\n",
    "    if b == 0:\n",
    "        return \"Erro: divisão por zero\"\n",
    "    return a / b\n",
    "\n",
    "while True:\n",
    "    print(\"+=================+\")\n",
    "    print(\"| MENU DE OPERAÇÕES\")\n",
    "    print(\"| 1 - somar        \")\n",
    "    print(\"| 2 - subtrair     \")\n",
    "    print(\"| 3 - multiplicar  \")\n",
    "    print(\"| 4 - dividir      \")\n",
    "    print(\"| 0 - sair         \")\n",
    "    print(\"+=================+\")\n",
    "\n",
    "    op = int(input())\n",
    "    if op == 0:\n",
    "        break\n",
    "\n",
    "    n1 = int(input(\"primeiro numero: \"))\n",
    "    n2 = int(input(\"segundo numero: \"))\n",
    "\n",
    "    if op == 1:\n",
    "        print(\"O resultado da soma é:\", soma(n1, n2))\n",
    "    elif op == 2:\n",
    "        print(\"O resultado da subtração é:\", subtrai(n1, n2))\n",
    "    elif op == 3:\n",
    "        print(\"O resultado da multiplicação é:\", multiplica(n1, n2))\n",
    "    elif op == 4:\n",
    "        print(\"O resultado da divisão é:\", divide(n1, n2))\n",
    "    elif op == 5:\n",
    "        break"
   ]
  }
 ],
 "metadata": {
  "kernelspec": {
   "display_name": "Python 3",
   "language": "python",
   "name": "python3"
  },
  "language_info": {
   "name": "python",
   "version": "3.11.9"
  }
 },
 "nbformat": 4,
 "nbformat_minor": 2
}
