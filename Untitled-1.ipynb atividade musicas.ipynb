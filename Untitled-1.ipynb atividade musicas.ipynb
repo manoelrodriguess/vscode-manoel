{
 "cells": [
  {
   "cell_type": "code",
   "execution_count": null,
   "metadata": {},
   "outputs": [],
   "source": [
    "#digite a quantidade de patinhos que vão ser usados\n",
    "for patinhos in [5, 4, 3, 2, 1]:\n",
    "  print(patinhos, \" patinhos foram passear \\n além das montanhas para brincar\",\n",
    "        \"\\n a mamãe gritou: quá, quá, quá, quá, quá \\n mas só\", patinhos-1,\n",
    "        \"patinhos voltaram de lá\") "
   ]
  },
  {
   "cell_type": "code",
   "execution_count": null,
   "metadata": {},
   "outputs": [],
   "source": [
    "#mariana\n",
    "conta = []\n",
    "\n",
    "for i in range(1, 11):\n",
    "    conta.append(str(i))\n",
    "   \n",
    "    print('Mariana conta', i,'\\nMariana conta', i,'Mariana conta', i,'\\né',' , é '.join(conta))\n",
    "    print ('Ana, viva a Mariana, viva a Mariana')"
   ]
  },
  {
   "cell_type": "code",
   "execution_count": null,
   "metadata": {},
   "outputs": [],
   "source": [
    "#elefantes\n",
    "\n",
    "incomodam = 'incomodam, '\n",
    "\n",
    "for i in range(1, 11):\n",
    "    if i % 2 == 0:\n",
    "        if i == 2:\n",
    "             print(i, 'elefantes ', incomodam * i  , 'muito mais!')\n",
    "        else:\n",
    "            print(i, 'elefantes',  incomodam * i ,'muito mais!')\n",
    "        \n",
    "    else:\n",
    "        if i == 1:\n",
    "            print(i, 'elefante incomoda muita gente')\n",
    "        else:\n",
    "            print(i, 'elefantes  incomodam muita gente!')\n",
    "\n",
    "for i in reversed(range(1, 10)):\n",
    "    if i % 2 != 0:\n",
    "        if i == 2:\n",
    "             print(i, 'elefantes ', incomodam * i  , 'muito mais!')\n",
    "        else:\n",
    "            print(i, 'elefantes',  incomodam * i ,'muito menos!')\n",
    "        \n",
    "    else:\n",
    "        if i == 1:\n",
    "            print(i, 'elefante incomoda muita gente')\n",
    "        else:\n",
    "            print(i, 'elefantes  incomodam muita gente!')"
   ]
  },
  {
   "cell_type": "code",
   "execution_count": null,
   "metadata": {},
   "outputs": [],
   "source": []
  }
 ],
 "metadata": {
  "language_info": {
   "name": "python"
  }
 },
 "nbformat": 4,
 "nbformat_minor": 2
}
