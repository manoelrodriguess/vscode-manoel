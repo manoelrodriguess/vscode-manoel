{
 "cells": [
  {
   "cell_type": "code",
   "execution_count": 4,
   "metadata": {},
   "outputs": [
    {
     "data": {
      "text/plain": [
       "False"
      ]
     },
     "execution_count": 4,
     "metadata": {},
     "output_type": "execute_result"
    }
   ],
   "source": [
    "5*3 > 10 and 4+6 == 11"
   ]
  },
  {
   "cell_type": "code",
   "execution_count": 26,
   "metadata": {},
   "outputs": [
    {
     "name": "stdout",
     "output_type": "stream",
     "text": [
      "imposto de R$ 4000.0\n"
     ]
    }
   ],
   "source": [
    "\n",
    "#perguntar ano do carro\n",
    "anoCarro = int(input(\"digite o ano do carro\"))\n",
    "#perguntar valor do carro\n",
    "valorCarro = int(input(\"digite o valor do carro\"))\n",
    "#se o ano do carro for:\n",
    "if (anoCarro < 1990):\n",
    "    print(\"imposto de R$\", valorCarro*0.1)       \n",
    "#se não:\n",
    "else:\n",
    "    print(\"imposto de R$\", valorCarro*0.15)"
   ]
  },
  {
   "cell_type": "code",
   "execution_count": 29,
   "metadata": {},
   "outputs": [
    {
     "name": "stdout",
     "output_type": "stream",
     "text": [
      "seu salário terá um aumento de 14000.0\n"
     ]
    }
   ],
   "source": [
    "#perguntar o código do cargo do trabalhador\n",
    "cargo = int(input(\"indique o código do seu cargo\"))\n",
    "#perguntar o salário do trabalhador\n",
    "salario = int(input(\"indique seu salario\"))\n",
    "#aumento salarial de acordo com seu cargo\n",
    "if (cargo ==101):\n",
    "    print (\"seu salário terá um aumento de\", salario + (salario*0.1))\n",
    "elif (cargo == 102):\n",
    "    print (\"seu salário terá um aumento de\",salario + (salario*0.2))\n",
    "elif (cargo == 103):\n",
    "    print (\"seu salário terá um aumento de\",salario + (salario*0.3))\n",
    "#se seu cargo não estiver em algum código:    \n",
    "else: \n",
    "    print (\"seu salário terá um aumento de\", salario + (salario*0.4))    \n"
   ]
  }
 ],
 "metadata": {
  "kernelspec": {
   "display_name": "Python 3",
   "language": "python",
   "name": "python3"
  },
  "language_info": {
   "codemirror_mode": {
    "name": "ipython",
    "version": 3
   },
   "file_extension": ".py",
   "mimetype": "text/x-python",
   "name": "python",
   "nbconvert_exporter": "python",
   "pygments_lexer": "ipython3",
   "version": "3.10.11"
  }
 },
 "nbformat": 4,
 "nbformat_minor": 2
}
