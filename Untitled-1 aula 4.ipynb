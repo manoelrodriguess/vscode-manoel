{
 "cells": [
  {
   "cell_type": "code",
   "execution_count": 5,
   "metadata": {},
   "outputs": [
    {
     "name": "stdout",
     "output_type": "stream",
     "text": [
      "6.366666666666666\n"
     ]
    }
   ],
   "source": [
    "nota1= float(input(\"digite um número\"))\n",
    "nota2= float(input(\"digite um número\"))\n",
    "nota3= float(input(\"digite um número\"))\n",
    "media= (nota1 + nota2 + nota3)/3 \n",
    "print(media) \n",
    "\n"
   ]
  },
  {
   "cell_type": "code",
   "execution_count": 11,
   "metadata": {},
   "outputs": [
    {
     "name": "stdout",
     "output_type": "stream",
     "text": [
      "3200.0\n"
     ]
    }
   ],
   "source": [
    "salarioPorHora= float(input(\"digite o salario por hora\"))\n",
    "numeroHoraTrabalhadas= float(input(\"digita a quantidade de horas\"))\n",
    "totalSalario= (salarioPorHora * numeroHoraTrabalhadas)\n",
    "print(totalSalario)"
   ]
  },
  {
   "cell_type": "code",
   "execution_count": 14,
   "metadata": {},
   "outputs": [
    {
     "name": "stdout",
     "output_type": "stream",
     "text": [
      "o total da multa é R$ 40.0\n"
     ]
    }
   ],
   "source": [
    "#perguntar quantos quilos joao pescou\n",
    "quilosPescado= float(input(\"digite quantos quilos\"))\n",
    "#quantidade limite de quilo\n",
    "limitePeso= 50\n",
    "#multa a ser paga pelo excesso de peso\n",
    "excesso= quilosPescado- limitePeso\n",
    "if excesso>0:\n",
    "    multa= excesso* 4\n",
    "    print(\"o total da multa é R$\", multa)\n",
    "    "
   ]
  }
 ],
 "metadata": {
  "kernelspec": {
   "display_name": "Python 3",
   "language": "python",
   "name": "python3"
  },
  "language_info": {
   "codemirror_mode": {
    "name": "ipython",
    "version": 3
   },
   "file_extension": ".py",
   "mimetype": "text/x-python",
   "name": "python",
   "nbconvert_exporter": "python",
   "pygments_lexer": "ipython3",
   "version": "3.10.8"
  }
 },
 "nbformat": 4,
 "nbformat_minor": 2
}
