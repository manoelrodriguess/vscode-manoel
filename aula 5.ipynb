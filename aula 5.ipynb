{
 "cells": [
  {
   "cell_type": "code",
   "execution_count": null,
   "metadata": {},
   "outputs": [],
   "source": [
    "if (1 ==1): #mensagem no primeiro nível\n",
    "    print ('')\n",
    "    else "
   ]
  },
  {
   "cell_type": "code",
   "execution_count": 4,
   "metadata": {},
   "outputs": [
    {
     "name": "stdout",
     "output_type": "stream",
     "text": [
      "vou a praia hoje\n"
     ]
    }
   ],
   "source": [
    "#determinar se o dia está ensolarado\n",
    "sol = input (\"o dia está ensolarado?\")\n",
    "dinheiro = (\"você tem dinheiro?\")\n",
    "\n",
    "if ('sol = sim, dinheiro = sim'):\n",
    "    print (\"vou a praia hoje\")\n",
    "\n",
    "else:\n",
    "    print (\"ou então vou assitir netflix?\")"
   ]
  },
  {
   "cell_type": "code",
   "execution_count": 12,
   "metadata": {},
   "outputs": [
    {
     "name": "stdout",
     "output_type": "stream",
     "text": [
      "você vai para a praia então?\n"
     ]
    }
   ],
   "source": [
    "#determinar se o dia está ensolarado\n",
    "sol = input (\"o dia está ensolarado?\")\n",
    "if (sol== \"sim\"):\n",
    "#perguntar se ele tem dinheiro\n",
    "    dinheiro = input(\"você tem dinheiro?\")\n",
    "    if (dinheiro == \"sim\"):\n",
    "    #se ele tiver dinheiro, vai a praia?\n",
    "        print (\"você vai para a praia então?\")\n",
    "    #se ele não tiver dinheiro\n",
    "    else:\n",
    "        print ('voltar para casa')\n",
    "    #voltando para casa, vai fazer oq?\n",
    "else:\n",
    "    print(\"vai ficar assistindo netflix?\")\n",
    "    "
   ]
  }
 ],
 "metadata": {
  "kernelspec": {
   "display_name": "Python 3",
   "language": "python",
   "name": "python3"
  },
  "language_info": {
   "codemirror_mode": {
    "name": "ipython",
    "version": 3
   },
   "file_extension": ".py",
   "mimetype": "text/x-python",
   "name": "python",
   "nbconvert_exporter": "python",
   "pygments_lexer": "ipython3",
   "version": "3.10.11"
  }
 },
 "nbformat": 4,
 "nbformat_minor": 2
}
