{
 "cells": [
  {
   "cell_type": "code",
   "execution_count": 2,
   "metadata": {},
   "outputs": [
    {
     "name": "stdout",
     "output_type": "stream",
     "text": [
      "Mas só 5 patinhos voltaram de lá\n",
      "Mas só 4 patinhos voltaram de lá\n",
      "Mas só 3 patinhos voltaram de lá\n",
      "Mas só 2 patinhos voltaram de lá\n",
      "Mas só 1 patinhos voltaram de lá\n"
     ]
    }
   ],
   "source": [
    "for patinhos in [5, 4, 3, 2, 1]:\n",
    "    print (\"Mas só\", patinhos, \"patinhos voltaram de lá\")"
   ]
  },
  {
   "cell_type": "code",
   "execution_count": 6,
   "metadata": {},
   "outputs": [
    {
     "name": "stdout",
     "output_type": "stream",
     "text": [
      "5 patinhos foram passear, além das montanhas para brincar. A mamãe gritou: quá, quá, quá, quá, quá. Mas só 5 patinhos voltaram de lá\n",
      "5 patinhos foram passear, além das montanhas para brincar. A mamãe gritou: quá, quá, quá, quá, quá. Mas só 4 patinhos voltaram de lá\n",
      "5 patinhos foram passear, além das montanhas para brincar. A mamãe gritou: quá, quá, quá, quá, quá. Mas só 3 patinhos voltaram de lá\n",
      "5 patinhos foram passear, além das montanhas para brincar. A mamãe gritou: quá, quá, quá, quá, quá. Mas só 2 patinhos voltaram de lá\n",
      "5 patinhos foram passear, além das montanhas para brincar. A mamãe gritou: quá, quá, quá, quá, quá. Mas só 1 patinhos voltaram de lá\n",
      "5 patinhos foram passear, além das montanhas para brincar. A mamãe gritou: quá, quá, quá, quá, quá. Mas nenhum patinho voltou de lá\n"
     ]
    }
   ],
   "source": [
    "for patinhos in [5, 4, 3, 2, 1]:\n",
    "  print(\"5 patinhos foram passear, além das montanhas para brincar. A mamãe gritou: quá, quá, quá, quá, quá. Mas só\", patinhos, \"patinhos voltaram de lá\")\n",
    "print(\"5 patinhos foram passear, além das montanhas para brincar. A mamãe gritou: quá, quá, quá, quá, quá. Mas nenhum patinho voltou de lá\")"
   ]
  },
  {
   "cell_type": "code",
   "execution_count": 9,
   "metadata": {},
   "outputs": [
    {
     "name": "stdout",
     "output_type": "stream",
     "text": [
      "5  patinhos foram passear \n",
      " além das montanhas para brincar \n",
      " a mamãe gritou: quá, quá, quá, quá, quá \n",
      " mas só 4 patinhos voltaram de lá\n",
      "4  patinhos foram passear \n",
      " além das montanhas para brincar \n",
      " a mamãe gritou: quá, quá, quá, quá, quá \n",
      " mas só 3 patinhos voltaram de lá\n",
      "3  patinhos foram passear \n",
      " além das montanhas para brincar \n",
      " a mamãe gritou: quá, quá, quá, quá, quá \n",
      " mas só 2 patinhos voltaram de lá\n",
      "2  patinhos foram passear \n",
      " além das montanhas para brincar \n",
      " a mamãe gritou: quá, quá, quá, quá, quá \n",
      " mas só 1 patinhos voltaram de lá\n",
      "1  patinhos foram passear \n",
      " além das montanhas para brincar \n",
      " a mamãe gritou: quá, quá, quá, quá, quá \n",
      " mas só 0 patinhos voltaram de lá\n"
     ]
    }
   ],
   "source": [
    "#digite a quantidade de patinhos que vão ser usados\n",
    "for patinhos in [5, 4, 3, 2, 1]:\n",
    "  print(patinhos, \" patinhos foram passear \\n além das montanhas para brincar\",\n",
    "        \"\\n a mamãe gritou: quá, quá, quá, quá, quá \\n mas só\", patinhos-1,\n",
    "        \"patinhos voltaram de lá\") "
   ]
  },
  {
   "cell_type": "code",
   "execution_count": 11,
   "metadata": {},
   "outputs": [
    {
     "name": "stdout",
     "output_type": "stream",
     "text": [
      "4 x 0 = 0\n",
      "4 x 1 = 4\n",
      "4 x 2 = 8\n",
      "4 x 3 = 12\n",
      "4 x 4 = 16\n",
      "4 x 5 = 20\n",
      "4 x 6 = 24\n",
      "4 x 7 = 28\n",
      "4 x 8 = 32\n",
      "4 x 9 = 36\n",
      "4 x 10 = 40\n"
     ]
    }
   ],
   "source": [
    "numeros_inteiros = int(input(\"digite um numero inteiro: \"))\n",
    "for num in range (11):\n",
    "    print( numeros_inteiros, \"x\", num, \"=\", numeros_inteiros*num)"
   ]
  }
 ],
 "metadata": {
  "kernelspec": {
   "display_name": "Python 3",
   "language": "python",
   "name": "python3"
  },
  "language_info": {
   "codemirror_mode": {
    "name": "ipython",
    "version": 3
   },
   "file_extension": ".py",
   "mimetype": "text/x-python",
   "name": "python",
   "nbconvert_exporter": "python",
   "pygments_lexer": "ipython3",
   "version": "3.10.11"
  }
 },
 "nbformat": 4,
 "nbformat_minor": 2
}
